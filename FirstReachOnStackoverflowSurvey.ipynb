{
 "nbformat": 4,
 "nbformat_minor": 2,
 "metadata": {
  "language_info": {
   "name": "python",
   "codemirror_mode": {
    "name": "ipython",
    "version": 3
   }
  },
  "orig_nbformat": 2,
  "file_extension": ".py",
  "mimetype": "text/x-python",
  "name": "python",
  "npconvert_exporter": "python",
  "pygments_lexer": "ipython3",
  "version": 3
 },
 "cells": [
  {
   "cell_type": "markdown",
   "execution_count": null,
   "metadata": {},
   "outputs": [],
   "source": [
    "# Data Science Nanodegree at Udacity Work\n",
    "\n",
    "Start data science nano degree at Udacity 2019 Oct.. This is my first notebook of analyse Stackoverflow developer_survey_2017. We want to answer 3 my personal intresset question from this survey result. \n",
    "\n",
    "1. Which kind of hardware use by which kind of development? Mac, Windows, Linux, Notebook, PC or Cloud Env\n"
   ]
  },
  {
   "cell_type": "code",
   "execution_count": 49,
   "metadata": {},
   "outputs": [],
   "source": [
    "import numpy as np\n",
    "import pandas as pd\n",
    "from collections import defaultdict\n",
    "import matplotlib.pyplot as plt\n",
    "%matplotlib inline\n",
    "\n",
    "result = pd.read_csv('./developer_survey_2017/survey_results_public.csv')\n",
    "schema = pd.read_csv('./developer_survey_2017/survey_results_schema.csv')"
   ]
  },
  {
   "cell_type": "markdown",
   "execution_count": null,
   "metadata": {},
   "outputs": [],
   "source": [
    "## Understanding Data"
   ]
  },
  {
   "cell_type": "code",
   "execution_count": 50,
   "metadata": {},
   "outputs": [
    {
     "name": "stdout",
     "output_type": "stream",
     "text": "Respondent\nProfessional\nProgramHobby\nCountry\nUniversity\nEmploymentStatus\nFormalEducation\nMajorUndergrad\nHomeRemote\nCompanySize\nCompanyType\nYearsProgram\nYearsCodedJob\nYearsCodedJobPast\nDeveloperType\nWebDeveloperType\nMobileDeveloperType\nNonDeveloperType\nCareerSatisfaction\nJobSatisfaction\nExCoderReturn\nExCoderNotForMe\nExCoderBalance\nExCoder10Years\nExCoderBelonged\nExCoderSkills\nExCoderWillNotCode\nExCoderActive\nPronounceGIF\nProblemSolving\nBuildingThings\nLearningNewTech\nBoringDetails\nJobSecurity\nDiversityImportant\nAnnoyingUI\nFriendsDevelopers\nRightWrongWay\nUnderstandComputers\nSeriousWork\nInvestTimeTools\nWorkPayCare\nKinshipDevelopers\nChallengeMyself\nCompetePeers\nChangeWorld\nJobSeekingStatus\nHoursPerWeek\nLastNewJob\nAssessJobIndustry\nAssessJobRole\nAssessJobExp\nAssessJobDept\nAssessJobTech\nAssessJobProjects\nAssessJobCompensation\nAssessJobOffice\nAssessJobCommute\nAssessJobRemote\nAssessJobLeaders\nAssessJobProfDevel\nAssessJobDiversity\nAssessJobProduct\nAssessJobFinances\nImportantBenefits\nClickyKeys\nJobProfile\nResumePrompted\nLearnedHiring\nImportantHiringAlgorithms\nImportantHiringTechExp\nImportantHiringCommunication\nImportantHiringOpenSource\nImportantHiringPMExp\nImportantHiringCompanies\nImportantHiringTitles\nImportantHiringEducation\nImportantHiringRep\nImportantHiringGettingThingsDone\nCurrency\nOverpaid\nTabsSpaces\nEducationImportant\nEducationTypes\nSelfTaughtTypes\nTimeAfterBootcamp\nCousinEducation\nWorkStart\nHaveWorkedLanguage\nWantWorkLanguage\nHaveWorkedFramework\nWantWorkFramework\nHaveWorkedDatabase\nWantWorkDatabase\nHaveWorkedPlatform\nWantWorkPlatform\nIDE\nAuditoryEnvironment\nMethodology\nVersionControl\nCheckInCode\nShipIt\nOtherPeoplesCode\nProjectManagement\nEnjoyDebugging\nInTheZone\nDifficultCommunication\nCollaborateRemote\nMetricAssess\nEquipmentSatisfiedMonitors\nEquipmentSatisfiedCPU\nEquipmentSatisfiedRAM\nEquipmentSatisfiedStorage\nEquipmentSatisfiedRW\nInfluenceInternet\nInfluenceWorkstation\nInfluenceHardware\nInfluenceServers\nInfluenceTechStack\nInfluenceDeptTech\nInfluenceVizTools\nInfluenceDatabase\nInfluenceCloud\nInfluenceConsultants\nInfluenceRecruitment\nInfluenceCommunication\nStackOverflowDescribes\nStackOverflowSatisfaction\nStackOverflowDevices\nStackOverflowFoundAnswer\nStackOverflowCopiedCode\nStackOverflowJobListing\nStackOverflowCompanyPage\nStackOverflowJobSearch\nStackOverflowNewQuestion\nStackOverflowAnswer\nStackOverflowMetaChat\nStackOverflowAdsRelevant\nStackOverflowAdsDistracting\nStackOverflowModeration\nStackOverflowCommunity\nStackOverflowHelpful\nStackOverflowBetter\nStackOverflowWhatDo\nStackOverflowMakeMoney\nGender\nHighestEducationParents\nRace\nSurveyLong\nQuestionsInteresting\nQuestionsConfusing\nInterestedAnswers\nSalary\nExpectedSalary\n"
    }
   ],
   "source": [
    "for col in result.columns:\n",
    "    print(col)"
   ]
  },
  {
   "cell_type": "code",
   "execution_count": 51,
   "metadata": {},
   "outputs": [],
   "source": [
    "def get_description(column_name, schema=schema):\n",
    "    '''\n",
    "    use the column_name to search the meaning in the schema.\n",
    "    INPUT - \n",
    "        column_name - string - the name of the column you would like to know about\n",
    "        schema - pandas dataframe with the schema of the developers survey\n",
    "    OUTPUT - \n",
    "        desc - string - the description of the column\n",
    "    '''\n",
    "    desc = list(schema[schema['Column'] == column_name]['Question'])[0]\n",
    "    return desc"
   ]
  },
  {
   "cell_type": "code",
   "execution_count": 53,
   "metadata": {},
   "outputs": [
    {
     "data": {
      "text/plain": "'Which development environment(s) do you use regularly?'"
     },
     "execution_count": 53,
     "metadata": {},
     "output_type": "execute_result"
    }
   ],
   "source": [
    "# test get_description function\n",
    "get_description('IDE')"
   ]
  },
  {
   "cell_type": "code",
   "execution_count": 81,
   "metadata": {},
   "outputs": [
    {
     "data": {
      "text/plain": "array([list(['Atom', 'Xcode']),\n       list(['Atom', 'Notepad++', 'Vim', 'PyCharm', 'RubyMine', 'Visual Studio', 'Visual Studio Code']),\n       list(['Sublime Text', 'Vim', 'IntelliJ']), ..., nan,\n       list(['Emacs', 'Vim', 'Xcode']),\n       list(['Notepad++', 'Eclipse', 'Visual Studio'])], dtype=object)"
     },
     "execution_count": 81,
     "metadata": {},
     "output_type": "execute_result"
    }
   ],
   "source": [
    "result['IDE'].str.split('; ', expand=False).values"
   ]
  },
  {
   "cell_type": "code",
   "execution_count": null,
   "metadata": {},
   "outputs": [],
   "source": []
  },
  {
   "cell_type": "code",
   "execution_count": null,
   "metadata": {},
   "outputs": [],
   "source": []
  }
 ]
}